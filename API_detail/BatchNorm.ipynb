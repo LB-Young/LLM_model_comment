{
 "cells": [
  {
   "cell_type": "code",
   "execution_count": 16,
   "metadata": {},
   "outputs": [],
   "source": [
    "import torch"
   ]
  },
  {
   "cell_type": "markdown",
   "metadata": {},
   "source": [
    "### batchnorm作用维度为第一个非batch维度，即dim=1的维度；"
   ]
  },
  {
   "cell_type": "markdown",
   "metadata": {},
   "source": [
    "## batchnorm1d"
   ]
  },
  {
   "cell_type": "code",
   "execution_count": 2,
   "metadata": {},
   "outputs": [],
   "source": [
    "\n",
    "input = torch.rand(3,5)\n",
    "bn1d = torch.nn.BatchNorm1d(5)"
   ]
  },
  {
   "cell_type": "code",
   "execution_count": 3,
   "metadata": {},
   "outputs": [
    {
     "data": {
      "text/plain": [
       "tensor([[0.6512, 0.3209, 0.3235, 0.7692, 0.3931],\n",
       "        [0.6488, 0.7993, 0.0065, 0.5221, 0.6520],\n",
       "        [0.5915, 0.2879, 0.8150, 0.7181, 0.5326]])"
      ]
     },
     "execution_count": 3,
     "metadata": {},
     "output_type": "execute_result"
    }
   ],
   "source": [
    "input"
   ]
  },
  {
   "cell_type": "code",
   "execution_count": 4,
   "metadata": {},
   "outputs": [
    {
     "data": {
      "text/plain": [
       "tensor([[ 0.7455, -0.6353, -0.1749,  0.9327, -1.2547],\n",
       "        [ 0.6586,  1.4117, -1.1278, -1.3862,  1.1913],\n",
       "        [-1.4041, -0.7765,  1.3027,  0.4535,  0.0634]],\n",
       "       grad_fn=<NativeBatchNormBackward0>)"
      ]
     },
     "execution_count": 4,
     "metadata": {},
     "output_type": "execute_result"
    }
   ],
   "source": [
    "bn1d_res = bn1d(input)\n",
    "bn1d_res"
   ]
  },
  {
   "cell_type": "code",
   "execution_count": 8,
   "metadata": {},
   "outputs": [
    {
     "data": {
      "text/plain": [
       "tensor([ 1.2716e-06,  3.9736e-08,  0.0000e+00,  0.0000e+00, -1.5895e-07],\n",
       "       grad_fn=<MeanBackward1>)"
      ]
     },
     "execution_count": 8,
     "metadata": {},
     "output_type": "execute_result"
    }
   ],
   "source": [
    "torch.mean(bn1d_res, axis=0)"
   ]
  },
  {
   "cell_type": "code",
   "execution_count": 10,
   "metadata": {},
   "outputs": [
    {
     "data": {
      "text/plain": [
       "tensor([0.9935, 0.9999, 1.0000, 0.9996, 0.9996], grad_fn=<StdBackward0>)"
      ]
     },
     "execution_count": 10,
     "metadata": {},
     "output_type": "execute_result"
    }
   ],
   "source": [
    "torch.std(bn1d_res, axis=0, unbiased=False)"
   ]
  },
  {
   "cell_type": "markdown",
   "metadata": {},
   "source": [
    "## batchnorm2d"
   ]
  },
  {
   "cell_type": "code",
   "execution_count": 12,
   "metadata": {},
   "outputs": [],
   "source": [
    "input = torch.rand(2,4,2,2)\n",
    "bn2d = torch.nn.BatchNorm2d(4)"
   ]
  },
  {
   "cell_type": "code",
   "execution_count": 13,
   "metadata": {},
   "outputs": [
    {
     "data": {
      "text/plain": [
       "tensor([[[[0.2021, 0.1355],\n",
       "          [0.0620, 0.9071]],\n",
       "\n",
       "         [[0.6035, 0.4273],\n",
       "          [0.7865, 0.9834]],\n",
       "\n",
       "         [[0.2851, 0.7727],\n",
       "          [0.7548, 0.9020]],\n",
       "\n",
       "         [[0.6641, 0.9390],\n",
       "          [0.1686, 0.2608]]],\n",
       "\n",
       "\n",
       "        [[[0.1323, 0.3708],\n",
       "          [0.8826, 0.0508]],\n",
       "\n",
       "         [[0.1615, 0.3730],\n",
       "          [0.5264, 0.8927]],\n",
       "\n",
       "         [[0.6919, 0.0089],\n",
       "          [0.5365, 0.9684]],\n",
       "\n",
       "         [[0.5813, 0.5798],\n",
       "          [0.2490, 0.5596]]]])"
      ]
     },
     "execution_count": 13,
     "metadata": {},
     "output_type": "execute_result"
    }
   ],
   "source": [
    "input"
   ]
  },
  {
   "cell_type": "code",
   "execution_count": 15,
   "metadata": {},
   "outputs": [
    {
     "data": {
      "text/plain": [
       "tensor([[[[-0.4242, -0.6245],\n",
       "          [-0.8459,  1.6994]],\n",
       "\n",
       "         [[ 0.0352, -0.6391],\n",
       "          [ 0.7355,  1.4890]],\n",
       "\n",
       "         [[-1.0847,  0.5183],\n",
       "          [ 0.4595,  0.9435]],\n",
       "\n",
       "         [[ 0.6785,  1.8173],\n",
       "          [-1.3737, -0.9920]]],\n",
       "\n",
       "\n",
       "        [[[-0.6344,  0.0839],\n",
       "          [ 1.6255, -0.8798]],\n",
       "\n",
       "         [[-1.6560, -0.8467],\n",
       "          [-0.2599,  1.1420]],\n",
       "\n",
       "         [[ 0.2527, -1.9930],\n",
       "          [-0.2582,  1.1619]],\n",
       "\n",
       "         [[ 0.3356,  0.3293],\n",
       "          [-1.0408,  0.2458]]]], grad_fn=<NativeBatchNormBackward0>)"
      ]
     },
     "execution_count": 15,
     "metadata": {},
     "output_type": "execute_result"
    }
   ],
   "source": [
    "bn2d_res = bn2d(input)\n",
    "bn2d_res"
   ]
  },
  {
   "cell_type": "code",
   "execution_count": 17,
   "metadata": {},
   "outputs": [],
   "source": [
    "line1 = [-0.4242, -0.6245, -0.8459,  1.6994, -0.6344,  0.0839, 1.6255, -0.8798]\n",
    "import numpy as np"
   ]
  },
  {
   "cell_type": "code",
   "execution_count": 18,
   "metadata": {},
   "outputs": [
    {
     "data": {
      "text/plain": [
       "-2.7755575615628914e-17"
      ]
     },
     "execution_count": 18,
     "metadata": {},
     "output_type": "execute_result"
    }
   ],
   "source": [
    "np.mean(line1)"
   ]
  },
  {
   "cell_type": "code",
   "execution_count": 19,
   "metadata": {},
   "outputs": [
    {
     "data": {
      "text/plain": [
       "0.9999533689127709"
      ]
     },
     "execution_count": 19,
     "metadata": {},
     "output_type": "execute_result"
    }
   ],
   "source": [
    "np.std(line1)"
   ]
  },
  {
   "cell_type": "markdown",
   "metadata": {},
   "source": [
    "## batchnorm3d"
   ]
  },
  {
   "cell_type": "code",
   "execution_count": 24,
   "metadata": {},
   "outputs": [],
   "source": [
    "input = torch.rand(2,3,2,1,2)\n",
    "bn3d = torch.nn.BatchNorm3d(3)"
   ]
  },
  {
   "cell_type": "code",
   "execution_count": 25,
   "metadata": {},
   "outputs": [
    {
     "data": {
      "text/plain": [
       "tensor([[[[[0.8472, 0.8452]],\n",
       "\n",
       "          [[0.1728, 0.0856]]],\n",
       "\n",
       "\n",
       "         [[[0.5020, 0.1975]],\n",
       "\n",
       "          [[0.5831, 0.4014]]],\n",
       "\n",
       "\n",
       "         [[[0.1179, 0.6056]],\n",
       "\n",
       "          [[0.8159, 0.5325]]]],\n",
       "\n",
       "\n",
       "\n",
       "        [[[[0.0660, 0.1115]],\n",
       "\n",
       "          [[0.5196, 0.7767]]],\n",
       "\n",
       "\n",
       "         [[[0.3978, 0.5254]],\n",
       "\n",
       "          [[0.5931, 0.4355]]],\n",
       "\n",
       "\n",
       "         [[[0.9594, 0.6808]],\n",
       "\n",
       "          [[0.2689, 0.9139]]]]])"
      ]
     },
     "execution_count": 25,
     "metadata": {},
     "output_type": "execute_result"
    }
   ],
   "source": [
    "input"
   ]
  },
  {
   "cell_type": "code",
   "execution_count": 27,
   "metadata": {},
   "outputs": [
    {
     "data": {
      "text/plain": [
       "tensor([[[[[ 1.2541,  1.2483]],\n",
       "\n",
       "          [[-0.7638, -1.0247]]],\n",
       "\n",
       "\n",
       "         [[[ 0.3955, -2.1381]],\n",
       "\n",
       "          [[ 1.0703, -0.4416]]],\n",
       "\n",
       "\n",
       "         [[[-1.7652, -0.0225]],\n",
       "\n",
       "          [[ 0.7293, -0.2836]]]],\n",
       "\n",
       "\n",
       "\n",
       "        [[[[-1.0835, -0.9474]],\n",
       "\n",
       "          [[ 0.2738,  1.0433]]],\n",
       "\n",
       "\n",
       "         [[[-0.4719,  0.5901]],\n",
       "\n",
       "          [[ 1.1533, -0.1576]]],\n",
       "\n",
       "\n",
       "         [[[ 1.2419,  0.2463]],\n",
       "\n",
       "          [[-1.2257,  1.0795]]]]], grad_fn=<NativeBatchNormBackward0>)"
      ]
     },
     "execution_count": 27,
     "metadata": {},
     "output_type": "execute_result"
    }
   ],
   "source": [
    "bn3d_res = bn3d(input)\n",
    "bn3d_res"
   ]
  },
  {
   "cell_type": "code",
   "execution_count": 28,
   "metadata": {},
   "outputs": [],
   "source": [
    "line1 = [1.2541,  1.2483, -0.7638, -1.0247, -1.0835, -0.9474, 0.2738,  1.0433]"
   ]
  },
  {
   "cell_type": "code",
   "execution_count": 29,
   "metadata": {},
   "outputs": [
    {
     "data": {
      "text/plain": [
       "1.2499999999970868e-05"
      ]
     },
     "execution_count": 29,
     "metadata": {},
     "output_type": "execute_result"
    }
   ],
   "source": [
    "np.mean(line1)"
   ]
  },
  {
   "cell_type": "code",
   "execution_count": 30,
   "metadata": {},
   "outputs": [
    {
     "data": {
      "text/plain": [
       "0.999962534845056"
      ]
     },
     "execution_count": 30,
     "metadata": {},
     "output_type": "execute_result"
    }
   ],
   "source": [
    "np.std(line1)"
   ]
  }
 ],
 "metadata": {
  "kernelspec": {
   "display_name": "test310",
   "language": "python",
   "name": "python3"
  },
  "language_info": {
   "codemirror_mode": {
    "name": "ipython",
    "version": 3
   },
   "file_extension": ".py",
   "mimetype": "text/x-python",
   "name": "python",
   "nbconvert_exporter": "python",
   "pygments_lexer": "ipython3",
   "version": "3.10.13"
  }
 },
 "nbformat": 4,
 "nbformat_minor": 2
}
